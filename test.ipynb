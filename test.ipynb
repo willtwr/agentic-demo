{
 "cells": [
  {
   "cell_type": "code",
   "execution_count": 1,
   "metadata": {},
   "outputs": [],
   "source": [
    "from duckduckgo_search import DDGS"
   ]
  },
  {
   "cell_type": "code",
   "execution_count": 2,
   "metadata": {},
   "outputs": [],
   "source": [
    "ddgs = DDGS()"
   ]
  },
  {
   "cell_type": "code",
   "execution_count": 6,
   "metadata": {},
   "outputs": [],
   "source": [
    "results = ddgs.news(\"Trump\", max_results=5)"
   ]
  },
  {
   "cell_type": "code",
   "execution_count": 7,
   "metadata": {},
   "outputs": [
    {
     "name": "stdout",
     "output_type": "stream",
     "text": [
      "{'date': '2025-02-15T04:10:00+00:00', 'title': \"Trump signs order on Covid vaccine mandates; Vance, Rubio meet with Ukraine's Zelenskyy\", 'body': 'Vice President JD Vance, Secretary of State Marco Rubio and a coalition of senators met with Ukrainian President Volodymyr Zelenskyy today.', 'url': 'https://www.nbcnews.com/politics/politics-news/live-blog/live-updates-trump-tariffs-ukraine-russia-rcna191174', 'image': 'https://media-cldnry.s-nbcnews.com/image/upload/t_nbcnews-fp-1200-630,f_auto,q_auto:best/rockcms/2025-02/250213-donald-trump-mn-1725-8ad444.jpg', 'source': 'NBC News'}\n",
      "{'date': '2025-02-14T13:16:00+00:00', 'title': 'Judge Sets Five-Day Deadline For Trump Administration to Start Lifting USAID Funding Freeze', 'body': \"WASHINGTON — A federal judge has ordered President Donald Trump's administration to temporarily lift a funding freeze that has shut down U.S. humanitarian aid and development work around the world, and he has set a five-day deadline for the administration to prove it's complying.\", 'url': 'https://www.msn.com/en-us/politics/government/judge-sets-a-5-day-deadline-for-the-trump-administration-to-start-lifting-its-usaid-funding-freeze/ar-AA1z3vOA', 'image': 'https://api.time.com/wp-content/uploads/2025/02/GettyImages-2198395777.jpg?quality=85&w=1200&h=628&crop=1', 'source': 'The Associated Press on MSN.com'}\n",
      "{'date': '2025-02-14T22:09:00+00:00', 'title': \"What Is Trump's New 'Make America Healthy Again' Commission?\", 'body': 'Newly confirmed HHS Secretary Robert F. Kennedy Jr. will lead the commission tasked with investigating the causes of an increase in childhood chronic illness.', 'url': 'https://www.usnews.com/news/health-news/articles/2025-02-14/what-is-trumps-new-make-america-healthy-again-commission', 'image': 'https://www.usnews.com/dims4/USNEWS/9bc8575/2147483647/thumbnail/970x647/quality/85/?url=https://www.usnews.com/cmsmedia/9f/bc/17818e124fd8ac316ad045551f88/gettyimages-2199432162.jpg', 'source': 'U.S. News & World Report'}\n",
      "{'date': '2025-02-15T01:06:00+00:00', 'title': 'Seventh DOJ official resigns, warns Trump could use charges as leverage over NYC mayor Eric Adams', 'body': 'A letter from one federal prosecutor explains why the new administration is facing one of the largest\\xa0Justice Department mass resignations since Watergate.', 'url': 'https://www.msn.com/en-us/politics/government/seventh-doj-official-resigns-warns-trump-could-use-charges-as-leverage-over-nyc-mayor-eric-adams/ar-AA1z52UK', 'image': 'https://media-cldnry.s-nbcnews.com/image/upload/t_nbcnews-fp-1200-630,f_auto,q_auto:best/rockcms/2025-02/250214-eric-adams-mn-1200-3d506b.jpg', 'source': 'NBC News on MSN.com'}\n",
      "{'date': '2025-02-15T02:14:00+00:00', 'title': 'Trump 2nd term live updates: Mass layoffs at US nuclear weapons agency paused', 'body': 'The Department of Energy has paused the firings of hundreds of employees who work for a key agency maintaining the U.S. nuclear stockpile.', 'url': 'https://www.msn.com/en-us/money/other/trump-2nd-term-live-updates-mass-layoffs-at-us-nuclear-weapons-agency-paused/ar-AA1yL3p0', 'image': 'https://img-s-msn-com.akamaized.net/tenant/amp/entityid/AA1z49Qc.img?w=1600&h=900&m=4&q=74', 'source': 'MSN'}\n"
     ]
    }
   ],
   "source": [
    "for r in results:\n",
    "    print(r)"
   ]
  },
  {
   "cell_type": "code",
   "execution_count": null,
   "metadata": {},
   "outputs": [],
   "source": []
  }
 ],
 "metadata": {
  "kernelspec": {
   "display_name": "llm",
   "language": "python",
   "name": "python3"
  },
  "language_info": {
   "codemirror_mode": {
    "name": "ipython",
    "version": 3
   },
   "file_extension": ".py",
   "mimetype": "text/x-python",
   "name": "python",
   "nbconvert_exporter": "python",
   "pygments_lexer": "ipython3",
   "version": "3.11.11"
  }
 },
 "nbformat": 4,
 "nbformat_minor": 2
}
